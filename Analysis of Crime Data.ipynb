{
 "cells": [
  {
   "cell_type": "markdown",
   "metadata": {},
   "source": [
    "# FIT 5202 - Data Processing for Big Data\n",
    "\n",
    "#### Name: Ng Jade Kuan\n",
    "\n",
    "#### Student ID: 25510487\n",
    "\n",
    "#### Tutorial Day: Wednesday, 8 am - 10 am\n",
    "\n",
    "##### Tutor : Peter Liu\n",
    "\n",
    "##### Python Version: 3.6.8\n",
    "\n",
    "#### Spark Version: 2.4.3"
   ]
  },
  {
   "cell_type": "markdown",
   "metadata": {},
   "source": [
    "## Step 1: Import Pyspark and initialize Spark\n",
    "This step, I am importing sparkcontext from pyspark which is the main entry point for Spark Core functionality. The SparkSession object provides methods used to create DataFrames from various input sources. \n",
    "\n"
   ]
  },
  {
   "cell_type": "code",
   "execution_count": 55,
   "metadata": {},
   "outputs": [],
   "source": [
    "import os\n",
    "os.environ['PYSPARK_SUBMIT_ARGS'] = '--packages org.mongodb.spark:mongo-spark-connector_2.11:2.4.0 pyspark-shell'\n",
    "# create entry points to spark\n",
    "from pyspark import SparkContext # Spark\n",
    "from pyspark.sql import SparkSession # Spark SQL\n",
    "\n",
    "# We add this line to avoid an error : \"Cannot run multiple SparkContexts at once\". \n",
    "# If there is an existing spark context, we will reuse it instead of creating a new context.\n",
    "sc = SparkContext.getOrCreate()\n",
    "\n",
    "# local[*]: run Spark locally with as many working processors as logical cores on your machine.\n",
    "# In the field of `master`, we use a local server with as many working processors (or threads) as possible (i.e. `local[*]`). \n",
    "# If we want Spark to run locally with 'k' worker threads, we can specify as `local[k]`.\n",
    "# The `appName` field is a name to be shown on the Sparking cluster UI. \n",
    "\n",
    "# If there is no existing spark context, we now create a new context\n",
    "if (sc is None):\n",
    "    sc = SparkContext(master=\"local[*]\")\n",
    "my_spark = SparkSession(sparkContext=sc)\\\n",
    "    .builder \\\n",
    "    .appName(\"crime_statistics\") \\\n",
    "    .config(\"spark.mongodb.input.uri\", \"mongodb://127.0.0.1/crimestats_db.crime_stats\") \\\n",
    "    .config(\"spark.mongodb.output.uri\", \"mongodb://127.0.0.1/crimestats_db.crime_stats\") \\\n",
    "    .getOrCreate()"
   ]
  },
  {
   "cell_type": "markdown",
   "metadata": {},
   "source": [
    "### Importing libraries needed"
   ]
  },
  {
   "cell_type": "code",
   "execution_count": 56,
   "metadata": {},
   "outputs": [],
   "source": [
    "# importing libraries \n",
    "from datetime import datetime\n",
    "from pyspark.sql.functions import col,udf\n",
    "from pyspark.sql.types import DateType\n",
    "from pyspark.sql import functions as f\n",
    "import numpy as np\n",
    "import matplotlib.pyplot as plt\n",
    "%matplotlib inline\n",
    "from pyspark.sql.functions import date_format\n",
    "\n"
   ]
  },
  {
   "cell_type": "markdown",
   "metadata": {},
   "source": [
    "## Step 2 Create Dataframe\n",
    "\n",
    "For this section, I am creating a dataframe and providing the data source as the csv file. The total of records in the dataframe is also shown."
   ]
  },
  {
   "cell_type": "code",
   "execution_count": 57,
   "metadata": {},
   "outputs": [
    {
     "name": "stdout",
     "output_type": "stream",
     "text": [
      "Number of records in dataframe: 727407\n"
     ]
    }
   ],
   "source": [
    "zips_df = my_spark.read.csv('Crime_Statistics_SA_2010_present.csv', header = True)\n",
    "# step below is to get the total records in file. Minus one is used to the minus header from the count.\n",
    "print('Number of records in dataframe:',zips_df.count() -1)"
   ]
  },
  {
   "cell_type": "markdown",
   "metadata": {},
   "source": [
    "## Step 3 Write to Database\n",
    "\n",
    "Since, I am using MongoDB as my data source, hence as the data loading step I am required to read the CSV file using spark session and insert all the records into MongoDB. An overwrite mode is used when inserting the data to MongoDB."
   ]
  },
  {
   "cell_type": "code",
   "execution_count": 58,
   "metadata": {
    "scrolled": true
   },
   "outputs": [
    {
     "name": "stdout",
     "output_type": "stream",
     "text": [
      "+-------------+-----------------+-------------------+---------------------------+---------------------------+---------------------------+-------------+\n",
      "|Reported Date|Suburb - Incident|Postcode - Incident|Offence Level 1 Description|Offence Level 2 Description|Offence Level 3 Description|Offence Count|\n",
      "+-------------+-----------------+-------------------+---------------------------+---------------------------+---------------------------+-------------+\n",
      "|    1/07/2010|         ADELAIDE|               5000|       OFFENCES AGAINST ...|       FRAUD DECEPTION A...|       Obtain benefit by...|            2|\n",
      "|    1/07/2010|         ADELAIDE|               5000|       OFFENCES AGAINST ...|       PROPERTY DAMAGE A...|       Other property da...|            2|\n",
      "|    1/07/2010|         ADELAIDE|               5000|       OFFENCES AGAINST ...|       SERIOUS CRIMINAL ...|        SCT - Non Residence|            1|\n",
      "|    1/07/2010|         ADELAIDE|               5000|       OFFENCES AGAINST ...|       THEFT AND RELATED...|                Other theft|            6|\n",
      "|    1/07/2010|         ADELAIDE|               5000|       OFFENCES AGAINST ...|       THEFT AND RELATED...|            Theft from shop|            3|\n",
      "|    1/07/2010|         ADELAIDE|               5000|       OFFENCES AGAINST ...|       ACTS INTENDED TO ...|             Common Assault|            2|\n",
      "|    1/07/2010|         ALBERTON|               5014|       OFFENCES AGAINST ...|       PROPERTY DAMAGE A...|       Other property da...|            1|\n",
      "|    1/07/2010|          ALDGATE|               5154|       OFFENCES AGAINST ...|       THEFT AND RELATED...|                Other theft|            1|\n",
      "|    1/07/2010|           ALFORD|               5555|       OFFENCES AGAINST ...|       THEFT AND RELATED...|                Other theft|            1|\n",
      "|    1/07/2010|            AMATA|               5724|       OFFENCES AGAINST ...|       PROPERTY DAMAGE A...|       Property damage b...|            1|\n",
      "|    1/07/2010|            AMATA|               5724|       OFFENCES AGAINST ...|       ACTS INTENDED TO ...|       Serious Assault r...|            1|\n",
      "|    1/07/2010|     ANDREWS FARM|               5114|       OFFENCES AGAINST ...|       PROPERTY DAMAGE A...|       Other property da...|            1|\n",
      "|    1/07/2010|       ASCOT PARK|               5043|       OFFENCES AGAINST ...|       FRAUD DECEPTION A...|       Obtain benefit by...|            1|\n",
      "|    1/07/2010|       ATHELSTONE|               5076|       OFFENCES AGAINST ...|       PROPERTY DAMAGE A...|       Other property da...|            1|\n",
      "|    1/07/2010|           AUBURN|               5451|       OFFENCES AGAINST ...|       SERIOUS CRIMINAL ...|            SCT - Residence|            1|\n",
      "|    1/07/2010|           BELAIR|               5052|       OFFENCES AGAINST ...|       SERIOUS CRIMINAL ...|            SCT - Residence|            1|\n",
      "|    1/07/2010|         BIRDWOOD|               5234|       OFFENCES AGAINST ...|       SERIOUS CRIMINAL ...|        SCT - Non Residence|            1|\n",
      "|    1/07/2010|       BIRKENHEAD|               5015|       OFFENCES AGAINST ...|       ACTS INTENDED TO ...|             Common Assault|            1|\n",
      "|    1/07/2010|      BLAIR ATHOL|               5084|       OFFENCES AGAINST ...|       PROPERTY DAMAGE A...|       Other property da...|            1|\n",
      "|    1/07/2010|      BLAIR ATHOL|               5084|       OFFENCES AGAINST ...|       THEFT AND RELATED...|       Theft from motor ...|            1|\n",
      "+-------------+-----------------+-------------------+---------------------------+---------------------------+---------------------------+-------------+\n",
      "only showing top 20 rows\n",
      "\n"
     ]
    }
   ],
   "source": [
    "# inserting records to mongodb  with overwrite mode\n",
    "zips_df.write.format(\"com.mongodb.spark.sql.DefaultSource\").mode(\"overwrite\").save()\n",
    "zips_df.show()"
   ]
  },
  {
   "cell_type": "markdown",
   "metadata": {},
   "source": [
    "## Step 4 Read from Database\n",
    "\n",
    "In this subsection, I am creating a Spark DataFrame to hold data from the MongoDB collection specified in the spark.mongodb.input.uri option which my SparkSession option is using. I've assigned the collection to a DataFrame with spark.read()"
   ]
  },
  {
   "cell_type": "code",
   "execution_count": 59,
   "metadata": {},
   "outputs": [],
   "source": [
    "# Write to MongoDB\n",
    "\n",
    "zips_df = my_spark.read.format(\"com.mongodb.spark.sql.DefaultSource\").load()"
   ]
  },
  {
   "cell_type": "code",
   "execution_count": 60,
   "metadata": {
    "scrolled": false
   },
   "outputs": [
    {
     "name": "stdout",
     "output_type": "stream",
     "text": [
      "root\n",
      " |-- Offence Count: string (nullable = true)\n",
      " |-- Offence Level 1 Description: string (nullable = true)\n",
      " |-- Offence Level 2 Description: string (nullable = true)\n",
      " |-- Offence Level 3 Description: string (nullable = true)\n",
      " |-- Postcode - Incident: string (nullable = true)\n",
      " |-- Reported Date: string (nullable = true)\n",
      " |-- Suburb - Incident: string (nullable = true)\n",
      " |-- _id: struct (nullable = true)\n",
      " |    |-- oid: string (nullable = true)\n",
      "\n"
     ]
    }
   ],
   "source": [
    "# display schema\n",
    "zips_df.printSchema()"
   ]
  },
  {
   "cell_type": "markdown",
   "metadata": {},
   "source": [
    "## Step 5 Calculating stats of numeric and string columns\n",
    "\n",
    "In this subsection, I'm calculating the statistics of \"Offence Count\" and \"Reported Date\". I've found the count, mean, standard deviation, minimum and maximum for these two attributes using the describe function. "
   ]
  },
  {
   "cell_type": "code",
   "execution_count": 61,
   "metadata": {
    "scrolled": true
   },
   "outputs": [
    {
     "name": "stdout",
     "output_type": "stream",
     "text": [
      "+-------+------------------+-------------+\n",
      "|summary|     Offence Count|Reported Date|\n",
      "+-------+------------------+-------------+\n",
      "|  count|            727407|       727407|\n",
      "|   mean|1.1715174585892079|         null|\n",
      "| stddev|0.5787050930378078|         null|\n",
      "|    min|                 1|    1/01/2011|\n",
      "|    max|                 9|    9/12/2018|\n",
      "+-------+------------------+-------------+\n",
      "\n"
     ]
    }
   ],
   "source": [
    "# using describe function to show statistics\n",
    "zips_df.describe('Offence Count','Reported Date').show()"
   ]
  },
  {
   "cell_type": "code",
   "execution_count": 62,
   "metadata": {},
   "outputs": [
    {
     "name": "stdout",
     "output_type": "stream",
     "text": [
      "+-------------+---------------------------+---------------------------+---------------------------+-------------------+-------------+-----------------+--------------------+\n",
      "|Offence Count|Offence Level 1 Description|Offence Level 2 Description|Offence Level 3 Description|Postcode - Incident|Reported Date|Suburb - Incident|                 _id|\n",
      "+-------------+---------------------------+---------------------------+---------------------------+-------------------+-------------+-----------------+--------------------+\n",
      "|            2|       OFFENCES AGAINST ...|       FRAUD DECEPTION A...|       Obtain benefit by...|               5000|    1/07/2010|         ADELAIDE|[5d71e2ae56389f08...|\n",
      "|            2|       OFFENCES AGAINST ...|       PROPERTY DAMAGE A...|       Other property da...|               5000|    1/07/2010|         ADELAIDE|[5d71e2ae56389f08...|\n",
      "+-------------+---------------------------+---------------------------+---------------------------+-------------------+-------------+-----------------+--------------------+\n",
      "only showing top 2 rows\n",
      "\n"
     ]
    }
   ],
   "source": [
    "# showing first two lines of dataframe\n",
    "zips_df.show(2)"
   ]
  },
  {
   "cell_type": "markdown",
   "metadata": {},
   "source": [
    "#### Based on the table above, the minimum and maximum date is not reported correctly. As we can see when we show the first two lines in the dataframe, the minimum date is 1/07/2010 compared to the minimum date 1/01/2011 displayed in the describe function. This is because a string does not have a minimum or maximum value. "
   ]
  },
  {
   "cell_type": "markdown",
   "metadata": {},
   "source": [
    "## Step 6 Change data type of a column\n",
    "\n",
    "For this subsection, I am changing the date column which is in string format to date format using the user defined functions"
   ]
  },
  {
   "cell_type": "code",
   "execution_count": 63,
   "metadata": {},
   "outputs": [
    {
     "name": "stdout",
     "output_type": "stream",
     "text": [
      "+-------------+---------------------------+---------------------------+---------------------------+-------------------+-------------+-----------------+--------------------+\n",
      "|Offence Count|Offence Level 1 Description|Offence Level 2 Description|Offence Level 3 Description|Postcode - Incident|Reported Date|Suburb - Incident|                 _id|\n",
      "+-------------+---------------------------+---------------------------+---------------------------+-------------------+-------------+-----------------+--------------------+\n",
      "|            2|       OFFENCES AGAINST ...|       FRAUD DECEPTION A...|       Obtain benefit by...|               5000|   2010-07-01|         ADELAIDE|[5d71e2ae56389f08...|\n",
      "|            2|       OFFENCES AGAINST ...|       PROPERTY DAMAGE A...|       Other property da...|               5000|   2010-07-01|         ADELAIDE|[5d71e2ae56389f08...|\n",
      "|            1|       OFFENCES AGAINST ...|       SERIOUS CRIMINAL ...|        SCT - Non Residence|               5000|   2010-07-01|         ADELAIDE|[5d71e2ae56389f08...|\n",
      "|            6|       OFFENCES AGAINST ...|       THEFT AND RELATED...|                Other theft|               5000|   2010-07-01|         ADELAIDE|[5d71e2ae56389f08...|\n",
      "|            3|       OFFENCES AGAINST ...|       THEFT AND RELATED...|            Theft from shop|               5000|   2010-07-01|         ADELAIDE|[5d71e2ae56389f08...|\n",
      "+-------------+---------------------------+---------------------------+---------------------------+-------------------+-------------+-----------------+--------------------+\n",
      "only showing top 5 rows\n",
      "\n"
     ]
    }
   ],
   "source": [
    "# this function converts string cell to date\n",
    "func = udf(lambda x: datetime.strptime (x,'%d/%m/%Y'),DateType())\n",
    "# dropping nulls and applying function to reported date column\n",
    "df = zips_df.na.drop().withColumn('Reported Date',func(col('Reported Date')))\n",
    "# showing top 5 values\n",
    "df.show(5)"
   ]
  },
  {
   "cell_type": "code",
   "execution_count": 64,
   "metadata": {},
   "outputs": [
    {
     "name": "stdout",
     "output_type": "stream",
     "text": [
      "root\n",
      " |-- Offence Count: string (nullable = true)\n",
      " |-- Offence Level 1 Description: string (nullable = true)\n",
      " |-- Offence Level 2 Description: string (nullable = true)\n",
      " |-- Offence Level 3 Description: string (nullable = true)\n",
      " |-- Postcode - Incident: string (nullable = true)\n",
      " |-- Reported Date: date (nullable = true)\n",
      " |-- Suburb - Incident: string (nullable = true)\n",
      " |-- _id: struct (nullable = true)\n",
      " |    |-- oid: string (nullable = true)\n",
      "\n"
     ]
    }
   ],
   "source": [
    "# printing schema to check if data type for reported date is changed\n",
    "df.printSchema()"
   ]
  },
  {
   "cell_type": "markdown",
   "metadata": {},
   "source": [
    "## Step 7 Preliminary data analysis\n",
    "\n",
    "For this subsection, I am answering the following analytical queries:\n",
    "i. How many level 2 offences there are and I am displaying the list of level 2 offences\n",
    "ii. The number of offences against the person\n",
    "iii. Total serious criminal trespasses with more than 1 offence count\n",
    "iv. Percentage of crimes are offences against the property"
   ]
  },
  {
   "cell_type": "markdown",
   "metadata": {},
   "source": [
    "### i. This displays the list of level 2 offences and the count of the total level 2 offences"
   ]
  },
  {
   "cell_type": "code",
   "execution_count": 65,
   "metadata": {},
   "outputs": [
    {
     "name": "stdout",
     "output_type": "stream",
     "text": [
      "+------------------------------------+\n",
      "|Offence Level 2 Description         |\n",
      "+------------------------------------+\n",
      "|ROBBERY AND RELATED OFFENCES        |\n",
      "|PROPERTY DAMAGE AND ENVIRONMENTAL   |\n",
      "|SEXUAL ASSAULT AND RELATED OFFENCES |\n",
      "|HOMICIDE AND RELATED OFFENCES       |\n",
      "|ACTS INTENDED TO CAUSE INJURY       |\n",
      "|SERIOUS CRIMINAL TRESPASS           |\n",
      "|OTHER OFFENCES AGAINST THE PERSON   |\n",
      "|FRAUD DECEPTION AND RELATED OFFENCES|\n",
      "|THEFT AND RELATED OFFENCES          |\n",
      "+------------------------------------+\n",
      "\n",
      "Total level 2 offences are: 9\n"
     ]
    }
   ],
   "source": [
    "# im selecting the offence level 2 description and dropping null and duplicate values. truncate = false is used in order\n",
    "# to display the description as a whole\n",
    "df.select('Offence Level 2 Description').na.drop().dropDuplicates().show(truncate = False)\n",
    "\n",
    "# this is to obtain the count of the offence description\n",
    "print('Total level 2 offences are:', df.select('Offence Level 2 Description').distinct().na.drop().count())\n"
   ]
  },
  {
   "cell_type": "markdown",
   "metadata": {},
   "source": [
    "### ii. This displays the number of offences against the person"
   ]
  },
  {
   "cell_type": "code",
   "execution_count": 66,
   "metadata": {},
   "outputs": [
    {
     "name": "stdout",
     "output_type": "stream",
     "text": [
      "Total Number of Offences Against the Person: 155909\n"
     ]
    }
   ],
   "source": [
    "# filtering offences against the person in the offence level 1 description column and then counting it once filtered\n",
    "print(\"Total Number of Offences Against the Person:\",df.filter(df[\"Offence Level 1 Description\"] == \"OFFENCES AGAINST THE PERSON\").count())"
   ]
  },
  {
   "cell_type": "markdown",
   "metadata": {},
   "source": [
    "### iii.This displays how many serious criminal trespasses with more than 1 offence count"
   ]
  },
  {
   "cell_type": "code",
   "execution_count": 67,
   "metadata": {},
   "outputs": [
    {
     "name": "stdout",
     "output_type": "stream",
     "text": [
      "Total Number of Serious Criminal Trespass With More Than 1 Offence Count: 8574\n"
     ]
    }
   ],
   "source": [
    "# filtering serious criminal trespass from offence level 2 description column and filtering it with offence count more than 1 then getting the count of the filtered values\n",
    "print(\"Total Number of Serious Criminal Trespass With More Than 1 Offence Count:\", df.filter((df[\"Offence Level 2 Description\"] == \"SERIOUS CRIMINAL TRESPASS\") & (df[\"Offence Count\"] >1)).count())"
   ]
  },
  {
   "cell_type": "markdown",
   "metadata": {},
   "source": [
    "### iv. This shows the percentage of crimes which are offences against the property"
   ]
  },
  {
   "cell_type": "code",
   "execution_count": 68,
   "metadata": {},
   "outputs": [
    {
     "name": "stdout",
     "output_type": "stream",
     "text": [
      "Percentage of crimes which are offences against property 78.55213977860043 %\n"
     ]
    }
   ],
   "source": [
    "# getting the count of filtered offences against property in the offence level 1 description column\n",
    "property_offences = df.filter(df[\"Offence Level 1 Description\"] == \"OFFENCES AGAINST PROPERTY\").count()\n",
    "# getting the count of offence level 1 description column\n",
    "offence_count = df.select(\"Offence Level 1 Description\").count()\n",
    "# getting percentage by dividing offences against porperty against total offence level 1 description \n",
    "# and multiplying by 100\n",
    "print(\"Percentage of crimes which are offences against property\",(property_offences/offence_count)*100,\"%\")"
   ]
  },
  {
   "cell_type": "markdown",
   "metadata": {},
   "source": [
    "## Step 8 Exploratory data analysis\n",
    "\n",
    "In this step, I am analyzing the following analytical queries and visualising it using the standard python library matplotlib. The analytical queries are:\n",
    "\n",
    "i. Finding the number of crimes per year\n",
    "\n",
    "ii. Finding the number of crimes per month\n",
    "\n",
    "iii. Finding out the top 20 suburbs and displaying the poscode where most crimes take place\n",
    "\n",
    "iv. Finding the number of serious criminal trespass by day and month"
   ]
  },
  {
   "cell_type": "markdown",
   "metadata": {},
   "source": [
    "### i. Finding number of crimes per year "
   ]
  },
  {
   "cell_type": "code",
   "execution_count": 71,
   "metadata": {},
   "outputs": [],
   "source": [
    "# splitting values in reported date rows based on - \n",
    "column_split = f.split(df['Reported Date'],'-')\n",
    "\n",
    "# creating new column of year and month \n",
    "df = df.withColumn('Year',column_split.getItem(0))\n",
    "df = df.withColumn('Month',column_split.getItem(1))\n",
    "\n",
    "# grouping by year and sorting based on year in ascending order along with count\n",
    "count_year = df.groupBy('Year').count().sort('Year').collect()\n",
    "# grouping by month and sorting based on month in ascending order along with count\n",
    "count_month = df.groupBy('Month').count().sort('Month').collect()\n"
   ]
  },
  {
   "cell_type": "code",
   "execution_count": 72,
   "metadata": {
    "scrolled": true
   },
   "outputs": [
    {
     "data": {
      "image/png": "[encoded data removed]",
      "text/plain": [
       "<Figure size 432x288 with 1 Axes>"
      ]
     },
     "metadata": {
      "needs_background": "light"
     },
     "output_type": "display_data"
    }
   ],
   "source": [
    "#prepare data\n",
    "y_axis = [row['count'] for row in count_year]\n",
    "\n",
    "# plot\n",
    "bar_width = 0.5\n",
    "objects= ('2010', '2011','2012','2013','2014','2015','2016','2017','2018','2019')\n",
    "y_pos = np.arange(len(objects))\n",
    "\n",
    "\n",
    "# plotting bar with y_pos which is the count of crimes of year as y axis with years as x axis \n",
    "plt.bar(y_pos, y_axis, bar_width, align='center', color='green')\n",
    "plt.xticks(y_pos, objects) # x labels which include individual year\n",
    "plt.xlabel('Year')\n",
    "plt.ylabel('Count of Crime')\n",
    "plt.title('Count of Crime based on years')\n",
    "plt.tight_layout()\n",
    "plt.show()"
   ]
  },
  {
   "cell_type": "markdown",
   "metadata": {},
   "source": [
    "#### Based on the graph above we can see the maximum total crime is in the year 2011 where as the lowest count of crime would be in the year 2019. There was a significant increase in the count of crime from the year 2010 to 2011 followed by a gradual decline to 2014. In the year 2015 to 2016, total crime increased gradually, then had a steep decline in 2017. Between 2017 to 2018 there was a slight increase in crime followed by a major decline in crime in 2019.\n"
   ]
  },
  {
   "cell_type": "markdown",
   "metadata": {},
   "source": [
    "### ii) Finding number of crimes per month"
   ]
  },
  {
   "cell_type": "code",
   "execution_count": 73,
   "metadata": {},
   "outputs": [
    {
     "data": {
      "text/plain": [
       "[Row(Month='01', count=65678),\n",
       " Row(Month='02', count=59912),\n",
       " Row(Month='03', count=63755),\n",
       " Row(Month='04', count=51388),\n",
       " Row(Month='05', count=55028),\n",
       " Row(Month='06', count=51901),\n",
       " Row(Month='07', count=60635),\n",
       " Row(Month='08', count=62509),\n",
       " Row(Month='09', count=62192),\n",
       " Row(Month='10', count=65568),\n",
       " Row(Month='11', count=64233),\n",
       " Row(Month='12', count=64122)]"
      ]
     },
     "execution_count": 73,
     "metadata": {},
     "output_type": "execute_result"
    }
   ],
   "source": [
    "count_month"
   ]
  },
  {
   "cell_type": "code",
   "execution_count": 74,
   "metadata": {
    "scrolled": true
   },
   "outputs": [
    {
     "data": {
      "image/png": "[encoded data removed]",
      "text/plain": [
       "<Figure size 1080x720 with 1 Axes>"
      ]
     },
     "metadata": {
      "needs_background": "light"
     },
     "output_type": "display_data"
    }
   ],
   "source": [
    "#prepare data\n",
    "y_axis = [row['count'] for row in count_month]\n",
    "\n",
    "plt.subplots(figsize = (15,10)) # figure size\n",
    "bar_width = 0.5\n",
    "objects= ('Jan','Feb','March','April','May','June','July','Aug','Sept','October','Nov','Dec')\n",
    "y_pos = np.arange(len(objects))\n",
    "\n",
    "# plotting bar with y_pos which is the count of crimes of month as y axis with months as x axis \n",
    "plt.bar(y_pos, y_axis, bar_width, align='center', color='green')\n",
    "\n",
    "plt.xticks(y_pos, objects)\n",
    "plt.xlabel('Year')\n",
    "plt.ylabel('Count of Crime')\n",
    "plt.title('Count of Crime based on years')\n",
    "\n",
    "plt.tight_layout()\n",
    "plt.show()"
   ]
  },
  {
   "cell_type": "markdown",
   "metadata": {},
   "source": [
    "#### As we can see in the plot above, the crime rate for January is the highest, while the lowest crime rate is in April. Crime rate is relatively lower in the month of April, May and June."
   ]
  },
  {
   "cell_type": "markdown",
   "metadata": {},
   "source": [
    "### iii)  Finding out the top 20 suburbs and displaying the poscode where most crimes take place"
   ]
  },
  {
   "cell_type": "code",
   "execution_count": 75,
   "metadata": {},
   "outputs": [],
   "source": [
    "#merging suburb with postcode \n",
    "df = df.withColumn('joined_column', \n",
    "                    f.concat(f.col('Suburb - Incident'),f.lit('-'), f.col('Postcode - Incident')))"
   ]
  },
  {
   "cell_type": "code",
   "execution_count": 76,
   "metadata": {},
   "outputs": [
    {
     "data": {
      "text/plain": [
       "[Row(joined_column='ADELAIDE-5000', count=21684),\n",
       " Row(joined_column='MOUNT GAMBIER-5290', count=10000),\n",
       " Row(joined_column='PORT AUGUSTA-5700', count=9619),\n",
       " Row(joined_column='MORPHETT VALE-5162', count=9548),\n",
       " Row(joined_column='MURRAY BRIDGE-5253', count=9423),\n",
       " Row(joined_column='NOT DISCLOSED-NOT DISCLOSED', count=8939),\n",
       " Row(joined_column='SALISBURY-5108', count=8332),\n",
       " Row(joined_column='PORT LINCOLN-5606', count=7848),\n",
       " Row(joined_column='ELIZABETH-5112', count=7686),\n",
       " Row(joined_column='PARAFIELD GARDENS-5107', count=6640),\n",
       " Row(joined_column='DAVOREN PARK-5113', count=6519),\n",
       " Row(joined_column='PARALOWIE-5108', count=6084),\n",
       " Row(joined_column='PROSPECT-5082', count=5927),\n",
       " Row(joined_column='PORT PIRIE-5540', count=5772),\n",
       " Row(joined_column='OAKLANDS PARK-5046', count=5668),\n",
       " Row(joined_column='MODBURY-5092', count=5537),\n",
       " Row(joined_column='SALISBURY NORTH-5108', count=5492),\n",
       " Row(joined_column='SMITHFIELD-5114', count=5412),\n",
       " Row(joined_column='WHYALLA STUART-5608', count=5106),\n",
       " Row(joined_column='MAWSON LAKES-5095', count=4863)]"
      ]
     },
     "execution_count": 76,
     "metadata": {},
     "output_type": "execute_result"
    }
   ],
   "source": [
    "# getting count for joined column and arranging them based on the top 20 count  \n",
    "suburb_count = df.groupBy('joined_column').count().sort('count',ascending=False).take(20)\n",
    "suburb_count"
   ]
  },
  {
   "cell_type": "code",
   "execution_count": 77,
   "metadata": {},
   "outputs": [],
   "source": [
    "# getting a list of count for suburb count\n",
    "y_axis1 = [row['count'] for row in suburb_count]\n",
    "# getting a list of joined column which consist of suburb and postcode merged\n",
    "x_axis1 = [row['joined_column'] for row in suburb_count]"
   ]
  },
  {
   "cell_type": "code",
   "execution_count": 78,
   "metadata": {
    "scrolled": true
   },
   "outputs": [
    {
     "data": {
      "image/png": "[encoded data removed]",
      "text/plain": [
       "<Figure size 720x720 with 1 Axes>"
      ]
     },
     "metadata": {
      "needs_background": "light"
     },
     "output_type": "display_data"
    }
   ],
   "source": [
    "plt.subplots(figsize = (10,10)) # figure size\n",
    "\n",
    "# plotting bar with y_axis1 which is the count of crimes by suburb with postcode as y axis with suburbs and postcode\n",
    "#as x axis \n",
    "plt.bar(x_axis1, y_axis1,align='center', color='green')\n",
    "plt.xticks(x_axis1,rotation = 90) # xlabels\n",
    "plt.xlabel('Suburbs')\n",
    "plt.ylabel('Total Crime')\n",
    "plt.title('Top 20 Suburbs with Crime')\n",
    "plt.tight_layout()\n",
    "plt.show()"
   ]
  },
  {
   "cell_type": "markdown",
   "metadata": {},
   "source": [
    "#### Based on the bar graph above, we can see that the highest total crime is in Adelaide - 5000 where as the lowest among the top 20 suburbs in terms of crime rate is Mawson Lakes - 5095. We can see that the total crime in Adelaide -5000 is significantly higher compared to the other suburbs."
   ]
  },
  {
   "cell_type": "markdown",
   "metadata": {},
   "source": [
    "### iv) Finding the number of serious criminal trespass by day and month"
   ]
  },
  {
   "cell_type": "code",
   "execution_count": 79,
   "metadata": {
    "scrolled": true
   },
   "outputs": [],
   "source": [
    "# formatting date to numerical values based on date using date_format function. the numerical date values is then \n",
    "# placed in new days column\n",
    "days_column = df.select('Reported Date',date_format('Reported Date','u').alias('Days'))"
   ]
  },
  {
   "cell_type": "code",
   "execution_count": 80,
   "metadata": {
    "scrolled": false
   },
   "outputs": [
    {
     "name": "stdout",
     "output_type": "stream",
     "text": [
      "+-------------+----+\n",
      "|Reported Date|Days|\n",
      "+-------------+----+\n",
      "|   2010-07-01|   4|\n",
      "|   2010-07-01|   4|\n",
      "|   2010-07-01|   4|\n",
      "|   2010-07-01|   4|\n",
      "|   2010-07-01|   4|\n",
      "+-------------+----+\n",
      "only showing top 5 rows\n",
      "\n"
     ]
    }
   ],
   "source": [
    "days_column.show(5)"
   ]
  },
  {
   "cell_type": "code",
   "execution_count": 81,
   "metadata": {
    "scrolled": true
   },
   "outputs": [
    {
     "name": "stdout",
     "output_type": "stream",
     "text": [
      "+-------------+----+-----+\n",
      "|Reported Date|Days|Month|\n",
      "+-------------+----+-----+\n",
      "|   2010-07-01|   4|   07|\n",
      "|   2010-07-01|   4|   07|\n",
      "|   2010-07-01|   4|   07|\n",
      "|   2010-07-01|   4|   07|\n",
      "|   2010-07-01|   4|   07|\n",
      "|   2010-07-01|   4|   07|\n",
      "|   2010-07-01|   4|   07|\n",
      "|   2010-07-01|   4|   07|\n",
      "|   2010-07-01|   4|   07|\n",
      "|   2010-07-01|   4|   07|\n",
      "|   2010-07-01|   4|   07|\n",
      "|   2010-07-01|   4|   07|\n",
      "|   2010-07-01|   4|   07|\n",
      "|   2010-07-01|   4|   07|\n",
      "|   2010-07-01|   4|   07|\n",
      "|   2010-07-01|   4|   07|\n",
      "|   2010-07-01|   4|   07|\n",
      "|   2010-07-01|   4|   07|\n",
      "|   2010-07-01|   4|   07|\n",
      "|   2010-07-01|   4|   07|\n",
      "+-------------+----+-----+\n",
      "only showing top 20 rows\n",
      "\n"
     ]
    }
   ],
   "source": [
    "# split reported date column in days_column dataframe based on -\n",
    "column_split = f.split(days_column['Reported Date'],'-')\n",
    "# creating a new column in days_column dataframe based on month obtained from split. \n",
    "days1 = days_column.withColumn('Month',column_split.getItem(1))\n",
    "days1.show()"
   ]
  },
  {
   "cell_type": "code",
   "execution_count": 82,
   "metadata": {
    "scrolled": true
   },
   "outputs": [
    {
     "data": {
      "text/plain": [
       "[Row(Month='01', count=65678),\n",
       " Row(Month='02', count=59912),\n",
       " Row(Month='03', count=63755),\n",
       " Row(Month='04', count=51388),\n",
       " Row(Month='05', count=55028),\n",
       " Row(Month='06', count=51901),\n",
       " Row(Month='07', count=60635),\n",
       " Row(Month='08', count=62509),\n",
       " Row(Month='09', count=62192),\n",
       " Row(Month='10', count=65568),\n",
       " Row(Month='11', count=64233),\n",
       " Row(Month='12', count=64122)]"
      ]
     },
     "execution_count": 82,
     "metadata": {},
     "output_type": "execute_result"
    }
   ],
   "source": [
    "count_month"
   ]
  },
  {
   "cell_type": "code",
   "execution_count": 89,
   "metadata": {
    "scrolled": true
   },
   "outputs": [
    {
     "data": {
      "text/plain": [
       "[Row(Days='1', Month='01', count=10313),\n",
       " Row(Days='1', Month='02', count=10173),\n",
       " Row(Days='1', Month='03', count=9934),\n",
       " Row(Days='1', Month='04', count=8096),\n",
       " Row(Days='1', Month='05', count=9314),\n",
       " Row(Days='1', Month='06', count=8214),\n",
       " Row(Days='1', Month='07', count=9939),\n",
       " Row(Days='1', Month='08', count=10849),\n",
       " Row(Days='1', Month='09', count=10337),\n",
       " Row(Days='1', Month='10', count=10717),\n",
       " Row(Days='1', Month='11', count=10857),\n",
       " Row(Days='1', Month='12', count=10713),\n",
       " Row(Days='2', Month='01', count=10144),\n",
       " Row(Days='2', Month='02', count=8685),\n",
       " Row(Days='2', Month='03', count=9795),\n",
       " Row(Days='2', Month='04', count=7888),\n",
       " Row(Days='2', Month='05', count=8335),\n",
       " Row(Days='2', Month='06', count=7625),\n",
       " Row(Days='2', Month='07', count=8940),\n",
       " Row(Days='2', Month='08', count=9022),\n",
       " Row(Days='2', Month='09', count=8993),\n",
       " Row(Days='2', Month='10', count=9964),\n",
       " Row(Days='2', Month='11', count=9483),\n",
       " Row(Days='2', Month='12', count=9203),\n",
       " Row(Days='3', Month='01', count=9497),\n",
       " Row(Days='3', Month='02', count=8628),\n",
       " Row(Days='3', Month='03', count=9045),\n",
       " Row(Days='3', Month='04', count=7572),\n",
       " Row(Days='3', Month='05', count=7683),\n",
       " Row(Days='3', Month='06', count=7705),\n",
       " Row(Days='3', Month='07', count=8666),\n",
       " Row(Days='3', Month='08', count=8982),\n",
       " Row(Days='3', Month='09', count=8909),\n",
       " Row(Days='3', Month='10', count=9747),\n",
       " Row(Days='3', Month='11', count=9126),\n",
       " Row(Days='3', Month='12', count=9229),\n",
       " Row(Days='4', Month='01', count=9373),\n",
       " Row(Days='4', Month='02', count=8701),\n",
       " Row(Days='4', Month='03', count=9314),\n",
       " Row(Days='4', Month='04', count=7375),\n",
       " Row(Days='4', Month='05', count=7899),\n",
       " Row(Days='4', Month='06', count=7790),\n",
       " Row(Days='4', Month='07', count=8527),\n",
       " Row(Days='4', Month='08', count=8939),\n",
       " Row(Days='4', Month='09', count=9198),\n",
       " Row(Days='4', Month='10', count=9266),\n",
       " Row(Days='4', Month='11', count=9143),\n",
       " Row(Days='4', Month='12', count=9384),\n",
       " Row(Days='5', Month='01', count=9565),\n",
       " Row(Days='5', Month='02', count=8532),\n",
       " Row(Days='5', Month='03', count=9145),\n",
       " Row(Days='5', Month='04', count=7199),\n",
       " Row(Days='5', Month='05', count=8009),\n",
       " Row(Days='5', Month='06', count=7516),\n",
       " Row(Days='5', Month='07', count=8856),\n",
       " Row(Days='5', Month='08', count=9159),\n",
       " Row(Days='5', Month='09', count=8906),\n",
       " Row(Days='5', Month='10', count=9176),\n",
       " Row(Days='5', Month='11', count=9420),\n",
       " Row(Days='5', Month='12', count=9149),\n",
       " Row(Days='6', Month='01', count=8246),\n",
       " Row(Days='6', Month='02', count=7607),\n",
       " Row(Days='6', Month='03', count=8222),\n",
       " Row(Days='6', Month='04', count=6659),\n",
       " Row(Days='6', Month='05', count=6726),\n",
       " Row(Days='6', Month='06', count=6523),\n",
       " Row(Days='6', Month='07', count=7764),\n",
       " Row(Days='6', Month='08', count=7810),\n",
       " Row(Days='6', Month='09', count=7782),\n",
       " Row(Days='6', Month='10', count=8444),\n",
       " Row(Days='6', Month='11', count=8091),\n",
       " Row(Days='6', Month='12', count=8389),\n",
       " Row(Days='7', Month='01', count=8540),\n",
       " Row(Days='7', Month='02', count=7586),\n",
       " Row(Days='7', Month='03', count=8300),\n",
       " Row(Days='7', Month='04', count=6599),\n",
       " Row(Days='7', Month='05', count=7062),\n",
       " Row(Days='7', Month='06', count=6528),\n",
       " Row(Days='7', Month='07', count=7943),\n",
       " Row(Days='7', Month='08', count=7748),\n",
       " Row(Days='7', Month='09', count=8067),\n",
       " Row(Days='7', Month='10', count=8254),\n",
       " Row(Days='7', Month='11', count=8113),\n",
       " Row(Days='7', Month='12', count=8055)]"
      ]
     },
     "execution_count": 89,
     "metadata": {},
     "output_type": "execute_result"
    }
   ],
   "source": [
    "# getting a list based on grouped days and month which are in order\n",
    "p = days1.groupBy(['Days','Month']).count().orderBy(['Days','Month']).collect()\n",
    "p"
   ]
  },
  {
   "cell_type": "code",
   "execution_count": 90,
   "metadata": {
    "scrolled": true
   },
   "outputs": [
    {
     "data": {
      "text/plain": [
       "[[10313,\n",
       "  10173,\n",
       "  9934,\n",
       "  8096,\n",
       "  9314,\n",
       "  8214,\n",
       "  9939,\n",
       "  10849,\n",
       "  10337,\n",
       "  10717,\n",
       "  10857,\n",
       "  10713],\n",
       " [10144, 8685, 9795, 7888, 8335, 7625, 8940, 9022, 8993, 9964, 9483, 9203],\n",
       " [9497, 8628, 9045, 7572, 7683, 7705, 8666, 8982, 8909, 9747, 9126, 9229],\n",
       " [9373, 8701, 9314, 7375, 7899, 7790, 8527, 8939, 9198, 9266, 9143, 9384],\n",
       " [9565, 8532, 9145, 7199, 8009, 7516, 8856, 9159, 8906, 9176, 9420, 9149],\n",
       " [8246, 7607, 8222, 6659, 6726, 6523, 7764, 7810, 7782, 8444, 8091, 8389],\n",
       " [8540, 7586, 8300, 6599, 7062, 6528, 7943, 7748, 8067, 8254, 8113, 8055]]"
      ]
     },
     "execution_count": 90,
     "metadata": {},
     "output_type": "execute_result"
    }
   ],
   "source": [
    "# for this step I am iterating through every row in p and getting the count. this will form a list of values of the count\n",
    "# stored in a variable height. Then I am interating through the the list stored in variable height and obtaining every 12\n",
    "#values and storing them into a list. so I'll have 7 individual lists which stores 12 values each which would be \n",
    "# months\n",
    "heights = []\n",
    "height = [row['count'] for row in p]\n",
    "for i in range(0,len(height),12):\n",
    "    heights.append(height[i:i+12])\n",
    "\n",
    "heights   "
   ]
  },
  {
   "cell_type": "code",
   "execution_count": 91,
   "metadata": {},
   "outputs": [
    {
     "data": {
      "image/png": "[encoded data removed]",
      "text/plain": [
       "<Figure size 1080x720 with 1 Axes>"
      ]
     },
     "metadata": {
      "needs_background": "light"
     },
     "output_type": "display_data"
    }
   ],
   "source": [
    "# plotting stackbar\n",
    "plt.subplots(figsize = (15,10)) # fig size\n",
    "bar_width = 0.5\n",
    "\n",
    "\n",
    "p1 = plt.bar(y_pos,heights[0],bar_width,bottom = 0) \n",
    "p2 = plt.bar(y_pos,heights[1],bar_width,bottom = np.array(heights[0]))\n",
    "p3 = plt.bar(y_pos,heights[2],bar_width,bottom = np.array(heights[0]) + np.array(heights[1]))\n",
    "p4 = plt.bar(y_pos,heights[3],bar_width,bottom = np.array(heights[0]) + np.array(heights[1]) + np.array(heights[2]))\n",
    "p5 = plt.bar(y_pos,heights[4],bar_width,bottom = np.array(heights[0]) + np.array(heights[1]) + np.array(heights[2]) + np.array(heights[3]))       \n",
    "p6 = plt.bar(y_pos,heights[5],bar_width,bottom = np.array(heights[0]) + np.array(heights[1]) + np.array(heights[2]) + np.array(heights[3]) + np.array(heights[4]))\n",
    "p7 = plt.bar(y_pos,heights[6],bar_width,bottom = np.array(heights[0]) + np.array(heights[1]) + np.array(heights[2]) + np.array(heights[3])+ np.array(heights[4]) + np.array(heights[5]))\n",
    "\n",
    "objects = ('Jan','Feb','March','April','May','June','July','August','Sept','October','November','December')\n",
    "y_pos = np.arange(len(objects))\n",
    "days = ('Monday','Tuesday','Wednesday','Thursday','Friday','Saturday','Sunday')\n",
    "\n",
    "#labelling\n",
    "plt.xlabel('Month')\n",
    "plt.ylabel('Number of Serious Criminal Trespasses')\n",
    "plt.title('Number of Serious Criminal Trespasses by Day and Month')\n",
    "plt.xticks(y_pos,objects)\n",
    "\n",
    "#plotting legend and showing graph\n",
    "plt.legend(days , loc = 'upper center', bbox_to_anchor = (1.2,0.5),shadow = True) \n",
    "plt.tight_layout()\n",
    "plt.show()\n"
   ]
  },
  {
   "cell_type": "markdown",
   "metadata": {},
   "source": [
    "#### As, we can see in the stacked graph above, January and October have the highest number of serious trespasses where as April and June tend to have the lowest number of serious trespasses. In terms of days, Monday seems to have the highest number of trespasses in all the months.\n"
   ]
  },
  {
   "cell_type": "markdown",
   "metadata": {},
   "source": [
    "References:"
   ]
  },
  {
   "cell_type": "markdown",
   "metadata": {},
   "source": [
    "https://stackoverflow.com/questions/38080748/convert-pyspark-string-to-date-format\n",
    "https://stackoverflow.com/questions/44309507/stacked-bar-plot-using-matplotlib"
   ]
  }
 ],
 "metadata": {
  "kernelspec": {
   "display_name": "Python 3",
   "language": "python",
   "name": "python3"
  },
  "language_info": {
   "codemirror_mode": {
    "name": "ipython",
    "version": 3
   },
   "file_extension": ".py",
   "mimetype": "text/x-python",
   "name": "python",
   "nbconvert_exporter": "python",
   "pygments_lexer": "ipython3",
   "version": "3.7.6"
  }
 },
 "nbformat": 4,
 "nbformat_minor": 2
}
